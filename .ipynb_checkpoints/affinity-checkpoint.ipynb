{
 "cells": [
  {
   "cell_type": "code",
   "execution_count": 12,
   "metadata": {
    "collapsed": true
   },
   "outputs": [],
   "source": [
    "import numpy as np\n",
    "data_filename = \"affinity_dataset.txt\"\n",
    "X = np.loadtxt(data_filename)"
   ]
  },
  {
   "cell_type": "code",
   "execution_count": 20,
   "metadata": {
    "scrolled": true
   },
   "outputs": [
    {
     "name": "stdout",
     "output_type": "stream",
     "text": [
      "Rule #1\n",
      "Rule:If a person buys cheese they will buy bananas\n",
      " -Support: 27\n",
      " -Confidence:0.6585365853658537\n",
      "Rule #2\n",
      "Rule:If a person buys bananas they will buy cheese\n",
      " -Support: 27\n",
      " -Confidence:0.4576271186440678\n",
      "Rule #3\n",
      "Rule:If a person buys apples they will buy cheese\n",
      " -Support: 25\n",
      " -Confidence:0.6944444444444444\n",
      "Rule #4\n",
      "Rule:If a person buys cheese they will buy apples\n",
      " -Support: 25\n",
      " -Confidence:0.6097560975609756\n",
      "Rule #5\n",
      "Rule:If a person buys bananas they will buy apples\n",
      " -Support: 21\n",
      " -Confidence:0.3559322033898305\n"
     ]
    }
   ],
   "source": [
    "n_samples,n_features = X.shape\n",
    "features = [\"bread\",\"milk\",\"cheese\",\"apples\",\"bananas\"]\n",
    "from collections import defaultdict\n",
    "valid_rules = defaultdict(int)\n",
    "invalid_rules = defaultdict(int)\n",
    "num_occurances = defaultdict(int)\n",
    "for sample in X:\n",
    "    for premise in range(n_features):\n",
    "        if sample[premise] == 0:\n",
    "            continue\n",
    "        num_occurances[premise] += 1\n",
    "        for conclusion in range(n_features):\n",
    "            if premise == conclusion:\n",
    "                continue\n",
    "            if sample[conclusion] == 1:\n",
    "                valid_rules[(premise,conclusion)] += 1\n",
    "            else :\n",
    "                invalid_rules[(premise,conclusion)] += 1\n",
    "support = valid_rules\n",
    "confidence = defaultdict(float)\n",
    "for premise,conclusion in valid_rules:\n",
    "    confidence[(premise,conclusion)] = valid_rules[(premise,conclusion)]  / num_occurances[premise]\n",
    "    \n",
    "def print_rule(premise, conclusion, support, confidence, features):\n",
    "    premise_name = features[premise]\n",
    "    conclusion_name = features[conclusion]\n",
    "    print(\"Rule:If a person buys {0} they will buy {1}\".format(premise_name,conclusion_name))\n",
    "    print(\" -Support: {0}\".format(support[(premise,conclusion)]))\n",
    "    print(\" -Confidence:{0}\".format(confidence[(premise,conclusion)]))\n",
    "\n",
    "from operator import itemgetter\n",
    "sorted_support = sorted(support.items(),key = itemgetter(1), reverse=True)\n",
    "for index in range(5):\n",
    "    print(\"Rule #{0}\".format(index+1))\n",
    "    premise,conclusion = sorted_support[index][0]\n",
    "    print_rule(premise, conclusion, support, confidence, features)"
   ]
  },
  {
   "cell_type": "code",
   "execution_count": null,
   "metadata": {
    "collapsed": true
   },
   "outputs": [],
   "source": []
  }
 ],
 "metadata": {
  "kernelspec": {
   "display_name": "Python 3",
   "language": "python",
   "name": "python3"
  },
  "language_info": {
   "codemirror_mode": {
    "name": "ipython",
    "version": 3
   },
   "file_extension": ".py",
   "mimetype": "text/x-python",
   "name": "python",
   "nbconvert_exporter": "python",
   "pygments_lexer": "ipython3",
   "version": "3.5.2"
  }
 },
 "nbformat": 4,
 "nbformat_minor": 2
}
